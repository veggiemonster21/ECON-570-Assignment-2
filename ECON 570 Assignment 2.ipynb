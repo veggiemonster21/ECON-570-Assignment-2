{
 "cells": [
  {
   "cell_type": "markdown",
   "metadata": {},
   "source": [
    "# ECON 570 Assignment 2\n",
    "## Angelo Carrasco\n",
    "### USC ID: 6630386317\n",
    "### Spring 2022"
   ]
  },
  {
   "cell_type": "code",
   "execution_count": 1,
   "metadata": {},
   "outputs": [],
   "source": [
    "import pandas as pd\n",
    "import numpy as np\n",
    "import random\n",
    "import statsmodels.api as sm\n",
    "from sklearn.model_selection import cross_val_score\n",
    "from sklearn.model_selection import RepeatedKFold\n",
    "from sklearn.linear_model import Lasso\n",
    "from sklearn.feature_selection import SelectFromModel\n",
    "import matplotlib.pyplot as plt\n",
    "from tqdm import tqdm\n",
    "import networkx as nx\n",
    "random.seed(10)"
   ]
  },
  {
   "cell_type": "code",
   "execution_count": 2,
   "metadata": {},
   "outputs": [],
   "source": [
    "def fn_variance(data, ddof=0):\n",
    "    n = len(data)\n",
    "    mean = sum(data) / n\n",
    "    return sum((x - mean) ** 2 for x in data) / (n - ddof)\n",
    "# Note this is equivalent to np.var(Yt,ddof)"
   ]
  },
  {
   "cell_type": "code",
   "execution_count": 3,
   "metadata": {},
   "outputs": [],
   "source": [
    "def fn_generate_cov(dim):\n",
    "    acc  = []\n",
    "    for i in range(dim):\n",
    "        row = np.ones((1,dim)) * corr\n",
    "        row[0][i] = 1\n",
    "        acc.append(row)\n",
    "    return np.concatenate(acc,axis=0)\n",
    "\n",
    "def fn_generate_multnorm(nobs,corr,nvar):\n",
    "\n",
    "    mu = np.zeros(nvar)\n",
    "    std = (np.abs(np.random.normal(loc = 1, scale = .5,size = (nvar,1))))**(1/2)\n",
    "    # generate random normal distribution\n",
    "    acc = []\n",
    "    for i in range(nvar):\n",
    "        acc.append(np.reshape(np.random.normal(mu[i],std[i],nobs),(nobs,-1)))\n",
    "    \n",
    "    normvars = np.concatenate(acc,axis=1)\n",
    "\n",
    "    cov = fn_generate_cov(nvar)\n",
    "    C = np.linalg.cholesky(cov)\n",
    "\n",
    "    Y = np.transpose(np.dot(C,np.transpose(normvars)))\n",
    "\n",
    "#     return (Y,np.round(np.corrcoef(Y,rowvar=False),2))\n",
    "    return Y\n",
    "\n",
    "def fn_randomize_treatment(N,p=0.5):\n",
    "    treated = random.sample(range(N), round(N*p))\n",
    "    return np.array([(1 if i in treated else 0) for i in range(N)]).reshape([N,1])"
   ]
  },
  {
   "cell_type": "code",
   "execution_count": 4,
   "metadata": {},
   "outputs": [],
   "source": [
    "def fn_generate_data(tau,N,p,p0,corr,conf = True,flagX = False):\n",
    "    \"\"\"\n",
    "    p0(int): number of covariates with nonzero coefficients\n",
    "    \"\"\"\n",
    "    nvar = p+2 # 1 confounder and variable for randomizing treatment\n",
    "    corr = 0.5 # correlation for multivariate normal\n",
    "\n",
    "    if conf==False:\n",
    "        conf_mult = 0 # remove confounder from outcome\n",
    "    else:\n",
    "        conf_mult = 1\n",
    "        \n",
    "    allX = fn_generate_multnorm(N,corr,nvar)\n",
    "    W0 = allX[:,0].reshape([N,1]) # variable for RDD assignment\n",
    "    C = allX[:,1].reshape([N,1]) # confounder\n",
    "    X = allX[:,2:] # observed covariates\n",
    "    \n",
    "    T = fn_randomize_treatment(N) # choose treated units\n",
    "    err = np.random.normal(0,1,[N,1])\n",
    "    beta0 = np.random.normal(5,5,[p,1])\n",
    "    \n",
    "    beta0[p0:p] = 0 # sparse model\n",
    "    Yab = tau*T+X@beta0+conf_mult*0.8*C+err  \n",
    "    \n",
    "    if flagX==False and conf==False:\n",
    "        return (Yab,T)\n",
    "    elif flagX==False and conf==True:     \n",
    "        return (Yab,T,C)\n",
    "    elif flagX==True and conf==False:\n",
    "        return (Yab,T,X[:,:p0])\n",
    "    else:                \n",
    "        return (Yab,T,C,X[:, :p0])\n",
    "\n",
    "def fn_tauhat_means(Yt,Yc):\n",
    "    nt = len(Yt)\n",
    "    nc = len(Yc)\n",
    "    tauhat = np.mean(Yt)-np.mean(Yc)\n",
    "    se_tauhat = (np.var(Yt,ddof=1)/nt+np.var(Yc,ddof=1)/nc)**(1/2)\n",
    "    return (tauhat,se_tauhat)\n",
    "\n",
    "def fn_bias_rmse_size(theta0,thetahat,se_thetahat,cval = 1.96):\n",
    "    \"\"\"\n",
    "    theta0 - true parameter value\n",
    "    thetatahat - estimated parameter value\n",
    "    se_thetahat - estiamted se of thetahat\n",
    "    \"\"\"\n",
    "    b = thetahat - theta0\n",
    "    bias = np.mean(b)\n",
    "    rmse = np.sqrt(np.mean(b**2))\n",
    "    tval = b/se_thetahat # paramhat/se_paramhat H0: theta = 0\n",
    "    size = np.mean(1*(np.abs(tval)>cval))\n",
    "    # note size calculated at true parameter value\n",
    "    return (bias,rmse,size)"
   ]
  },
  {
   "cell_type": "markdown",
   "metadata": {},
   "source": [
    "# Question 1\n",
    "## Outcome Depends on Treatments and Covariates\n",
    "$Y_i = \\tau*T_i+\\beta'*X_i+e_i$"
   ]
  },
  {
   "cell_type": "markdown",
   "metadata": {},
   "source": [
    "### Illustrate DGP with DAG"
   ]
  },
  {
   "cell_type": "code",
   "execution_count": 5,
   "metadata": {},
   "outputs": [
    {
     "data": {
      "image/png": "[encoded data removed]",
      "text/plain": [
       "<Figure size 432x288 with 1 Axes>"
      ]
     },
     "metadata": {},
     "output_type": "display_data"
    }
   ],
   "source": [
    "g = nx.DiGraph()\n",
    "g.add_edge('T','Y')\n",
    "g.add_edge(\"X's\",'Y')\n",
    "nx.draw(g, pos=nx.shell_layout(g), with_labels=True)"
   ]
  },
  {
   "cell_type": "markdown",
   "metadata": {},
   "source": [
    "### Simulate the DGP"
   ]
  },
  {
   "cell_type": "code",
   "execution_count": 6,
   "metadata": {},
   "outputs": [],
   "source": [
    "tau = 2\n",
    "corr = .5\n",
    "conf=False\n",
    "p = 20\n",
    "p0 = 10 # number of covariates used in the DGP\n",
    "flagX = True\n",
    "for N in [100,1000]:\n",
    "    genData = fn_generate_data(tau,N,p,p0,corr,conf,flagX)\n",
    "    data1 = pd.DataFrame(np.concatenate((genData[0],genData[1],genData[2]),axis=1))\n",
    "    data1.to_csv('data1n'+str(N)+'.csv')"
   ]
  },
  {
   "cell_type": "markdown",
   "metadata": {},
   "source": [
    "### Part a): Coviariates not controlled for"
   ]
  },
  {
   "cell_type": "code",
   "execution_count": 19,
   "metadata": {},
   "outputs": [
    {
     "name": "stderr",
     "output_type": "stream",
     "text": [
      "100%|██████████| 1000/1000 [00:00<00:00, 1762.25it/s]\n",
      "100%|██████████| 1000/1000 [00:05<00:00, 188.97it/s]\n"
     ]
    }
   ],
   "source": [
    "estDict = {}\n",
    "R = 1000\n",
    "for N in [100,1000]:\n",
    "    tauhats = []\n",
    "    sehats = []\n",
    "    for r in tqdm(range(R)):\n",
    "        Yexp,T,X = fn_generate_data(tau,N,p,p0,corr,conf,flagX)\n",
    "        Yt = Yexp[np.where(T==1)[0],:]\n",
    "        Yc = Yexp[np.where(T==0)[0],:]\n",
    "        tauhat,se_tauhat = fn_tauhat_means(Yt,Yc)\n",
    "        tauhats = tauhats + [tauhat]\n",
    "        sehats = sehats + [se_tauhat]\n",
    "    estDict[N] = {\n",
    "        'tauhat':np.array(tauhats).reshape([len(tauhats),1]),\n",
    "        'sehat':np.array(sehats).reshape([len(sehats),1])\n",
    "    }"
   ]
  },
  {
   "cell_type": "code",
   "execution_count": 20,
   "metadata": {},
   "outputs": [
    {
     "name": "stdout",
     "output_type": "stream",
     "text": [
      "N=100: bias=-0.030877822009991448, RMSE=7.860085055182795, size=0.05\n",
      "N=1000: bias=-0.055798886400580186, RMSE=2.6018045208799148, size=0.048\n"
     ]
    }
   ],
   "source": [
    "tau0 = tau*np.ones([R,1])\n",
    "for N, results in estDict.items():\n",
    "    (bias,rmse,size) = fn_bias_rmse_size(tau0,results['tauhat'],\n",
    "                                         results['sehat'])\n",
    "    print(f'N={N}: bias={bias}, RMSE={rmse}, size={size}')"
   ]
  },
  {
   "cell_type": "markdown",
   "metadata": {},
   "source": [
    "### Part b): Coviariates are controlled for"
   ]
  },
  {
   "cell_type": "code",
   "execution_count": 21,
   "metadata": {},
   "outputs": [
    {
     "name": "stderr",
     "output_type": "stream",
     "text": [
      "100%|██████████| 1000/1000 [00:00<00:00, 1163.19it/s]\n",
      "100%|██████████| 1000/1000 [00:05<00:00, 171.08it/s]\n"
     ]
    }
   ],
   "source": [
    "estDict = {}\n",
    "R = 1000\n",
    "for N in [100,1000]:\n",
    "    tauhats = []\n",
    "    sehats = []\n",
    "    for r in tqdm(range(R)):\n",
    "        Yexp,T,X = fn_generate_data(tau,N,p,p0,corr,conf,flagX)\n",
    "        Xcov = X[:,:p0]\n",
    "        model = sm.OLS(Yexp, np.concatenate((T,Xcov),axis=1))\n",
    "        results = model.fit()\n",
    "        tauhat = results.params[0]\n",
    "        se_tauhat = results.HC1_se[0]\n",
    "        tauhats = tauhats + [tauhat]\n",
    "        sehats = sehats + [se_tauhat]\n",
    "    estDict[N] = {\n",
    "        'tauhat':np.array(tauhats).reshape([len(tauhats),1]),\n",
    "        'sehat':np.array(sehats).reshape([len(sehats),1])\n",
    "    }"
   ]
  },
  {
   "cell_type": "code",
   "execution_count": 22,
   "metadata": {},
   "outputs": [
    {
     "name": "stdout",
     "output_type": "stream",
     "text": [
      "N=100: bias=-0.006988125955574704, RMSE=0.14911628645379219, size=0.054\n",
      "N=1000: bias=-0.00017757247943009502, RMSE=0.043568446303068706, size=0.045\n"
     ]
    }
   ],
   "source": [
    "tau0 = tau*np.ones([R,1])\n",
    "for N, results in estDict.items():\n",
    "    (bias,rmse,size) = fn_bias_rmse_size(tau0,results['tauhat'],\n",
    "                                         results['sehat'])\n",
    "    print(f'N={N}: bias={bias}, RMSE={rmse}, size={size}')"
   ]
  },
  {
   "cell_type": "markdown",
   "metadata": {},
   "source": [
    "The difference between the two situations is wuite clear. The bias in both sample sizes for scenario b) was far smaller than that of scenario A. Similarly, the root mean squared error for scenario b) was far smaller than that of scenario a), with the difference being quite large for N=100. Since size is calculated as the number of standard deviations tauhat is away from the true tau, we are looking for smaller sizes as more accureate estimations of tau. In the case of N=1000, there is a noticable difference of .1 standard deviations, with scenario b) being closer to tau. In the case of N=100, we that scenario a) was closer to tau, but this can be expected, since N=100 can be considered an asymptotically small sample size (thus estimates may not be as accurate)."
   ]
  },
  {
   "cell_type": "markdown",
   "metadata": {},
   "source": [
    "### Real Life Example"
   ]
  },
  {
   "cell_type": "markdown",
   "metadata": {},
   "source": [
    "T: Gender\n",
    "\n",
    "X's: GPA, Sports, Jobs, Bilingual, etc.\n",
    "\n",
    "Y: Admission to College\n",
    "\n",
    "\n",
    "We wish to know the effect of Gender on college admissions, so we use a gender dummy variable as the treatment variable. Other factors also affect college admissions such as a candidate's GPA, sports played, Jobs/interships held, and cultural varaibles such as being bilingual. It is reasonable to assume that none of these variables dtermine/cause the candidate's gender, so this situation fits the scenario for question 1. "
   ]
  },
  {
   "cell_type": "markdown",
   "metadata": {},
   "source": [
    "# Question 2\n",
    "## Simulate DGP with a confounder\n",
    "$Y_i = \\tau*T_i+\\beta*C+e_i$ "
   ]
  },
  {
   "cell_type": "markdown",
   "metadata": {},
   "source": [
    "### Illustrate DGP with DAG"
   ]
  },
  {
   "cell_type": "code",
   "execution_count": 23,
   "metadata": {},
   "outputs": [
    {
     "data": {
      "image/png": "[encoded data removed]",
      "text/plain": [
       "<Figure size 432x288 with 1 Axes>"
      ]
     },
     "metadata": {},
     "output_type": "display_data"
    }
   ],
   "source": [
    "g2 = nx.DiGraph()\n",
    "g2.add_edge('C','T')\n",
    "g2.add_edge('T','Y')\n",
    "g2.add_edge('C','Y')\n",
    "nx.draw(g2, pos=nx.spiral_layout(g2), with_labels=True)"
   ]
  },
  {
   "cell_type": "markdown",
   "metadata": {},
   "source": [
    "### Simulate DGP\n",
    "$y_i = \\tau*T_i+\\beta'*c_i+e_i$"
   ]
  },
  {
   "cell_type": "code",
   "execution_count": 73,
   "metadata": {},
   "outputs": [],
   "source": [
    "tau2 = 4\n",
    "corr2 = .5\n",
    "conf2=True\n",
    "p2 = 5\n",
    "p02 = 0 # number of covariates used in the DGP\n",
    "flagX2 = False\n",
    "for N in [100,1000]:\n",
    "    genData = fn_generate_data(tau2,N,p2,p02,corr2,conf2,flagX2)\n",
    "    data2 = pd.DataFrame(np.concatenate((genData[0],genData[1],genData[2]),axis=1))\n",
    "    data2.columns = ['Y','T','C']\n",
    "    data2.to_csv('data2n'+str(N)+'.csv')"
   ]
  },
  {
   "cell_type": "markdown",
   "metadata": {},
   "source": [
    "### Part a): Fail to control for Confounder"
   ]
  },
  {
   "cell_type": "code",
   "execution_count": 74,
   "metadata": {},
   "outputs": [
    {
     "name": "stderr",
     "output_type": "stream",
     "text": [
      "100%|██████████| 1000/1000 [00:00<00:00, 1784.12it/s]\n",
      "100%|██████████| 1000/1000 [00:04<00:00, 206.52it/s]\n"
     ]
    }
   ],
   "source": [
    "estDict = {}\n",
    "R = 1000\n",
    "for N in [100,1000]:\n",
    "    tauhats = []\n",
    "    sehats = []\n",
    "    for r in tqdm(range(R)):\n",
    "        Yexp,T,C = fn_generate_data(tau2,N,p2,p02,corr2,conf2,flagX2)\n",
    "        model = sm.OLS(Yexp, T)\n",
    "        results = model.fit()\n",
    "        tauhat = results.params[0]\n",
    "        se_tauhat = results.HC1_se[0]\n",
    "        tauhats = tauhats + [tauhat]\n",
    "        sehats = sehats + [se_tauhat]\n",
    "    estDict[N] = {\n",
    "        'tauhat':np.array(tauhats).reshape([len(tauhats),1]),\n",
    "        'sehat':np.array(sehats).reshape([len(sehats),1])\n",
    "    }"
   ]
  },
  {
   "cell_type": "code",
   "execution_count": 75,
   "metadata": {},
   "outputs": [
    {
     "name": "stdout",
     "output_type": "stream",
     "text": [
      "N=100: bias=0.012836594213339542, RMSE=0.18395627676675022, size=0.064\n",
      "N=1000: bias=-0.0007919456233730538, RMSE=0.05718558589214329, size=0.05\n"
     ]
    }
   ],
   "source": [
    "tau0_2 = tau2*np.ones([R,1])\n",
    "for N, results in estDict.items():\n",
    "    (bias,rmse,size) = fn_bias_rmse_size(tau0_2,results['tauhat'],\n",
    "                                         results['sehat'])\n",
    "    print(f'N={N}: bias={bias}, RMSE={rmse}, size={size}')"
   ]
  },
  {
   "cell_type": "markdown",
   "metadata": {},
   "source": [
    "### Part b): Control for Confounder"
   ]
  },
  {
   "cell_type": "code",
   "execution_count": 76,
   "metadata": {},
   "outputs": [
    {
     "name": "stderr",
     "output_type": "stream",
     "text": [
      "100%|██████████| 1000/1000 [00:00<00:00, 1702.33it/s]\n",
      "100%|██████████| 1000/1000 [00:04<00:00, 205.00it/s]\n"
     ]
    }
   ],
   "source": [
    "estDict = {}\n",
    "R = 1000\n",
    "for N in [100,1000]:\n",
    "    tauhats = []\n",
    "    sehats = []\n",
    "    for r in tqdm(range(R)):\n",
    "        Yexp,T,C = fn_generate_data(tau2,N,p2,p02,corr2,conf2,flagX2)\n",
    "        model = sm.OLS(Yexp, np.concatenate((T,C),axis=1))\n",
    "        results = model.fit()\n",
    "        tauhat = results.params[0]\n",
    "        se_tauhat = results.HC1_se[0]\n",
    "        tauhats = tauhats + [tauhat]\n",
    "        sehats = sehats + [se_tauhat]\n",
    "    estDict[N] = {\n",
    "        'tauhat':np.array(tauhats).reshape([len(tauhats),1]),\n",
    "        'sehat':np.array(sehats).reshape([len(sehats),1])\n",
    "    }"
   ]
  },
  {
   "cell_type": "code",
   "execution_count": 77,
   "metadata": {},
   "outputs": [
    {
     "name": "stdout",
     "output_type": "stream",
     "text": [
      "N=100: bias=-0.0031208462250260777, RMSE=0.14238595136170928, size=0.047\n",
      "N=1000: bias=0.0005562457064089949, RMSE=0.04384534791577346, size=0.044\n"
     ]
    }
   ],
   "source": [
    "tau0_2 = tau2*np.ones([R,1])\n",
    "for N, results in estDict.items():\n",
    "    (bias,rmse,size) = fn_bias_rmse_size(tau0_2,results['tauhat'],\n",
    "                                         results['sehat'])\n",
    "    print(f'N={N}: bias={bias}, RMSE={rmse}, size={size}')"
   ]
  },
  {
   "cell_type": "markdown",
   "metadata": {},
   "source": [
    "The scenario that controls for the confounder has a smaller bias and RMSE compared to when the confounder is ignored. We can see that the size metric is smaller in the scenario where we control for the confoudner, indicating that there was less statistical difference between tauhat and true tau."
   ]
  },
  {
   "cell_type": "markdown",
   "metadata": {},
   "source": [
    "### Real Life Example"
   ]
  },
  {
   "cell_type": "markdown",
   "metadata": {},
   "source": [
    "T: Within 3 miles of grocery store or not\n",
    "\n",
    "C: Income\n",
    "\n",
    "Y: Diabetes\n",
    "\n",
    "Suppose we wanted to measure the effect of having a grocery store in close proximity on having diabetes (food deserts). An individual's income would undoubtedly affect their ability to afford propoer healthcare to prevent the onset of diabetes, but their income could also predict wheteher or not there is a grocery store nearby, since there are often more grocery stores where there is higher income, and less grocery stores where median income is lower. Therefore, we have a confounding variable scenario."
   ]
  },
  {
   "cell_type": "markdown",
   "metadata": {},
   "source": [
    "# Question 3\n",
    "## Simulate DGP with Selection Bias in the Treatment\n",
    "$X_i = \\beta_0*T_i+u_i$ \n",
    "\n",
    "$Y_i = \\tau'*T_i+\\beta_1*X_i+e_i$\n",
    "\n",
    "with $\\tau = \\tau' + \\beta_1*\\beta_0$"
   ]
  },
  {
   "cell_type": "markdown",
   "metadata": {},
   "source": [
    "### Illustrate DGP with DAG"
   ]
  },
  {
   "cell_type": "code",
   "execution_count": 78,
   "metadata": {},
   "outputs": [
    {
     "data": {
      "image/png": "[encoded data removed]",
      "text/plain": [
       "<Figure size 432x288 with 1 Axes>"
      ]
     },
     "metadata": {},
     "output_type": "display_data"
    }
   ],
   "source": [
    "g3 = nx.DiGraph()\n",
    "g3.add_edge('T','X')\n",
    "g3.add_edge('X','Y')\n",
    "g3.add_edge('T','Y')\n",
    "nx.draw(g3, pos=nx.spiral_layout(g3), with_labels=True)\n",
    "\n",
    "# g3 = gr.Digraph()\n",
    "# g3.edge(\"T\",\"X\")\n",
    "# g3.edge(\"X\",\"Y\")\n",
    "# g3.edge(\"T\",\"Y\")\n",
    "# g3"
   ]
  },
  {
   "cell_type": "markdown",
   "metadata": {},
   "source": [
    "### Simulate DGP"
   ]
  },
  {
   "cell_type": "code",
   "execution_count": 157,
   "metadata": {},
   "outputs": [],
   "source": [
    "def generate_data_selectionBias(tauprime,N,beta0,beta1):\n",
    "    T = fn_randomize_treatment(N) # randomly assign treatment\n",
    "    errX = np.random.normal(0,1,[N,1]) #error for determining X with T\n",
    "    \n",
    "    X = beta0*T+errX\n",
    "    \n",
    "    err = np.random.normal(0,1,[N,1])\n",
    "    Yab = tauprime*T + beta1*X + err\n",
    "    \n",
    "    return Yab, T, X"
   ]
  },
  {
   "cell_type": "code",
   "execution_count": 178,
   "metadata": {},
   "outputs": [],
   "source": [
    "np.random.seed(100)\n",
    "tauprime =2\n",
    "beta0 = 1.2\n",
    "beta1 = 0.7\n",
    "tau3 = tauprime + beta0*beta1\n",
    "for N in [100,1000]:\n",
    "    genData = generate_data_selectionBias(tauprime,N,beta0,beta1)\n",
    "    data3 = pd.DataFrame(np.concatenate((genData[0],genData[1],genData[2]),axis=1))\n",
    "    data3.columns = ['Y','T','X']\n",
    "    data3.to_csv('data3n'+str(N)+'.csv')"
   ]
  },
  {
   "cell_type": "markdown",
   "metadata": {},
   "source": [
    "### Part a): You control for the variable in between the cause-effect path"
   ]
  },
  {
   "cell_type": "code",
   "execution_count": 174,
   "metadata": {},
   "outputs": [
    {
     "name": "stderr",
     "output_type": "stream",
     "text": [
      "100%|██████████| 1000/1000 [00:00<00:00, 2381.83it/s]\n",
      "100%|██████████| 1000/1000 [00:04<00:00, 221.34it/s]\n"
     ]
    }
   ],
   "source": [
    "estDict = {}\n",
    "R = 1000\n",
    "for N in [100,1000]:\n",
    "    tauhats = []\n",
    "    sehats = []\n",
    "    for r in tqdm(range(R)):\n",
    "        Yexp,T,X = generate_data_selectionBias(tauprime,N,beta0,beta1)\n",
    "        model = sm.OLS(Yexp, np.concatenate((T,X),axis=1))\n",
    "        results = model.fit()\n",
    "        tauhat = results.params[0]\n",
    "        se_tauhat = results.HC1_se[0]\n",
    "        tauhats = tauhats + [tauhat]\n",
    "        sehats = sehats + [se_tauhat]\n",
    "    estDict[N] = {\n",
    "        'tauhat':np.array(tauhats).reshape([len(tauhats),1]),\n",
    "        'sehat':np.array(sehats).reshape([len(sehats),1])\n",
    "    }"
   ]
  },
  {
   "cell_type": "code",
   "execution_count": 175,
   "metadata": {},
   "outputs": [
    {
     "name": "stdout",
     "output_type": "stream",
     "text": [
      "N=100: bias=-0.8418252081251025, RMSE=0.8623608546781721, size=0.993\n",
      "N=1000: bias=-0.8389878683566439, RMSE=0.8410436598662479, size=1.0\n"
     ]
    }
   ],
   "source": [
    "tau0_3 = tau3*np.ones([R,1])\n",
    "for N, results in estDict.items():\n",
    "    (bias,rmse,size) = fn_bias_rmse_size(tau0_3,results['tauhat'],\n",
    "                                         results['sehat'])\n",
    "    print(f'N={N}: bias={bias}, RMSE={rmse}, size={size}')"
   ]
  },
  {
   "cell_type": "markdown",
   "metadata": {},
   "source": [
    "### Part b): You do not control for the variable in between the cause-effect path"
   ]
  },
  {
   "cell_type": "code",
   "execution_count": 176,
   "metadata": {},
   "outputs": [
    {
     "name": "stderr",
     "output_type": "stream",
     "text": [
      "100%|██████████| 1000/1000 [00:00<00:00, 2617.96it/s]\n",
      "100%|██████████| 1000/1000 [00:04<00:00, 221.78it/s]\n"
     ]
    }
   ],
   "source": [
    "estDict = {}\n",
    "R = 1000\n",
    "for N in [100,1000]:\n",
    "    tauhats = []\n",
    "    sehats = []\n",
    "    for r in tqdm(range(R)):\n",
    "        Yexp,T,X = generate_data_selectionBias(tauprime,N,beta0,beta1)\n",
    "        model = sm.OLS(Yexp, T)\n",
    "        results = model.fit()\n",
    "        tauhat = results.params[0]\n",
    "        se_tauhat = results.HC1_se[0]\n",
    "        tauhats = tauhats + [tauhat]\n",
    "        sehats = sehats + [se_tauhat]\n",
    "    estDict[N] = {\n",
    "        'tauhat':np.array(tauhats).reshape([len(tauhats),1]),\n",
    "        'sehat':np.array(sehats).reshape([len(sehats),1])\n",
    "    }"
   ]
  },
  {
   "cell_type": "code",
   "execution_count": 177,
   "metadata": {},
   "outputs": [
    {
     "name": "stdout",
     "output_type": "stream",
     "text": [
      "N=100: bias=0.00476514434616273, RMSE=0.16863735711802091, size=0.049\n",
      "N=1000: bias=-0.003233578902564277, RMSE=0.053560456004600944, size=0.049\n"
     ]
    }
   ],
   "source": [
    "tau0_3 = tau3*np.ones([R,1])\n",
    "for N, results in estDict.items():\n",
    "    (bias,rmse,size) = fn_bias_rmse_size(tau0_3,results['tauhat'],\n",
    "                                         results['sehat'])\n",
    "    print(f'N={N}: bias={bias}, RMSE={rmse}, size={size}')"
   ]
  },
  {
   "cell_type": "markdown",
   "metadata": {},
   "source": [
    "The bias and RMSE from scenario a) are much higher than that for scenatrio b). The size metric also shows the same results. This is because when we condition on the mediator variable between treatment and outcome, you underestimate the effect true tau.  "
   ]
  },
  {
   "cell_type": "markdown",
   "metadata": {},
   "source": [
    "### Real Life Example"
   ]
  },
  {
   "cell_type": "markdown",
   "metadata": {},
   "source": [
    "T: College Educated\n",
    "\n",
    "X: Income\n",
    "\n",
    "Y: Home Ownership\n",
    "\n",
    "Suppose we wanted to test the effect of having a college degree on whether or not an individual becomes a homeowner in their lifetime. Those who are educated are more likely to understand the process how to best buy a house within thier budget. However, being college educated also increases your liklihood of having higher income, which also increases your chances of buying a house. Therefore, we have selection bias."
   ]
  }
 ],
 "metadata": {
  "kernelspec": {
   "display_name": "Python 3",
   "language": "python",
   "name": "python3"
  },
  "language_info": {
   "codemirror_mode": {
    "name": "ipython",
    "version": 3
   },
   "file_extension": ".py",
   "mimetype": "text/x-python",
   "name": "python",
   "nbconvert_exporter": "python",
   "pygments_lexer": "ipython3",
   "version": "3.8.5"
  }
 },
 "nbformat": 4,
 "nbformat_minor": 4
}
